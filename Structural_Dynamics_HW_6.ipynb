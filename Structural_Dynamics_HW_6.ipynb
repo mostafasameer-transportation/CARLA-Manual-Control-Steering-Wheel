{
  "nbformat": 4,
  "nbformat_minor": 0,
  "metadata": {
    "colab": {
      "provenance": [],
      "authorship_tag": "ABX9TyNF1O8OjkLqedVR9pjcMuv3",
      "include_colab_link": true
    },
    "kernelspec": {
      "name": "python3",
      "display_name": "Python 3"
    },
    "language_info": {
      "name": "python"
    }
  },
  "cells": [
    {
      "cell_type": "markdown",
      "metadata": {
        "id": "view-in-github",
        "colab_type": "text"
      },
      "source": [
        "<a href=\"https://colab.research.google.com/github/mostafasameer-transportation/CARLA-Manual-Control-Steering-Wheel/blob/main/Structural_Dynamics_HW_6.ipynb\" target=\"_parent\"><img src=\"https://colab.research.google.com/assets/colab-badge.svg\" alt=\"Open In Colab\"/></a>"
      ]
    },
    {
      "cell_type": "markdown",
      "source": [
        "Step 1: Define System Properties and Parameters"
      ],
      "metadata": {
        "id": "2JTgtprT5IQW"
      }
    },
    {
      "cell_type": "code",
      "execution_count": 1,
      "metadata": {
        "id": "NmYimHmc5CC_"
      },
      "outputs": [],
      "source": [
        "import numpy as np\n",
        "import matplotlib.pyplot as plt\n",
        "\n",
        "# System Properties\n",
        "m = 0.2533  # kip-sec²/in\n",
        "k = 10.0    # kips/in\n",
        "Tn = 1.0    # sec\n",
        "wn = 2 * np.pi / Tn  # Natural frequency in rad/sec\n",
        "xi = 0.05   # Damping ratio\n",
        "\n",
        "# Time Parameters\n",
        "dt = 0.005  # sec\n",
        "t_end = 10.0  # sec\n",
        "time_steps = int(t_end / dt)\n",
        "\n",
        "# Half-cycle sine pulse parameters\n",
        "t_pulse_end = 1.0  # end time of the pulse (1 sec for half cycle)\n",
        "force_amplitude = 1.0  # Arbitrary amplitude of the force"
      ]
    },
    {
      "cell_type": "markdown",
      "source": [
        "Step 2: Create the Applied Force Function"
      ],
      "metadata": {
        "id": "XCS09zwy5KqF"
      }
    },
    {
      "cell_type": "code",
      "source": [
        "def applied_force(t):\n",
        "    if t < t_pulse_end:  # Apply force only during the pulse\n",
        "        return force_amplitude * np.sin(np.pi * t / t_pulse_end)\n",
        "    else:\n",
        "        return 0.0"
      ],
      "metadata": {
        "id": "EbIhRVmN5EA-"
      },
      "execution_count": 2,
      "outputs": []
    },
    {
      "cell_type": "markdown",
      "source": [
        "Step 3: Create the Response Arrays"
      ],
      "metadata": {
        "id": "t04rFARO5Qxh"
      }
    },
    {
      "cell_type": "code",
      "source": [
        "u = np.zeros(time_steps)  # Displacement response\n",
        "v = np.zeros(time_steps)  # Velocity response\n",
        "a = np.zeros(time_steps)  # Acceleration response\n",
        "p = np.zeros(time_steps)  # Force response"
      ],
      "metadata": {
        "id": "WubMv7PB5TKk"
      },
      "execution_count": 3,
      "outputs": []
    },
    {
      "cell_type": "markdown",
      "source": [
        "Step 4: Calculate the Force Vector"
      ],
      "metadata": {
        "id": "F0MwYED36Ivh"
      }
    },
    {
      "cell_type": "code",
      "source": [
        "for i in range(time_steps):\n",
        "    p[i] = applied_force(i * dt)"
      ],
      "metadata": {
        "id": "VCHi0Aza6TYQ"
      },
      "execution_count": 4,
      "outputs": []
    },
    {
      "cell_type": "markdown",
      "source": [
        "Step 5: Implement Central Difference Method"
      ],
      "metadata": {
        "id": "BNyLCf9m6Wj4"
      }
    },
    {
      "cell_type": "code",
      "source": [
        "for i in range(1, time_steps):\n",
        "    if i == 1:\n",
        "        # Initial conditions\n",
        "        a[i-1] = p[i-1] / m  # First acceleration\n",
        "        u[i] = u[i-1] + v[i-1] * dt + 0.5 * a[i-1] * dt**2\n",
        "    else:\n",
        "        a[i] = (p[i] - k * u[i-1]) / m\n",
        "        u[i] = u[i-1] + v[i-1] * dt + 0.5 * a[i] * dt**2\n",
        "        v[i] = v[i-1] + 0.5 * (a[i] + a[i-1]) * dt"
      ],
      "metadata": {
        "id": "P-yFw84h6cI9"
      },
      "execution_count": 5,
      "outputs": []
    },
    {
      "cell_type": "markdown",
      "source": [
        "Step 6: Implement Newmark Method"
      ],
      "metadata": {
        "id": "39--Bs3u6gKU"
      }
    },
    {
      "cell_type": "code",
      "source": [
        "beta = 0.25  # Newmark parameter for constant average acceleration\n",
        "gamma = 0.5  # Newmark parameter for linear acceleration\n",
        "\n",
        "# Initialize variables for Newmark method\n",
        "u_newmark = np.zeros(time_steps)\n",
        "v_newmark = np.zeros(time_steps)\n",
        "a_newmark = np.zeros(time_steps)\n",
        "\n",
        "# Newmark iterations\n",
        "for i in range(1, time_steps):\n",
        "    # Effective stiffness and force\n",
        "    k_eff = k + gamma * dt * m / (2 * beta)\n",
        "    f_eff = p[i] + m * (a_newmark[i - 1] + beta * dt * v_newmark[i - 1]) / beta\n",
        "\n",
        "    # Calculate new displacement\n",
        "    u_newmark[i] = u_newmark[i - 1] + dt * v_newmark[i - 1] + (dt ** 2 * (0.5 - beta)) * a_newmark[i - 1]\n",
        "    u_newmark[i] += (dt ** 2 / (2 * beta)) * (f_eff / k_eff)\n",
        "\n",
        "    # Update acceleration\n",
        "    a_newmark[i] = (f_eff - k * u_newmark[i]) / m\n",
        "\n",
        "    # Update velocity\n",
        "    v_newmark[i] = v_newmark[i - 1] + dt * ((1 - gamma) * a_newmark[i - 1] + gamma * a_newmark[i])"
      ],
      "metadata": {
        "colab": {
          "base_uri": "https://localhost:8080/",
          "height": 0
        },
        "id": "SH2V5sh46jW0",
        "outputId": "0b061db3-0baf-4726-e4e3-00fe6da1fa43"
      },
      "execution_count": 6,
      "outputs": [
        {
          "output_type": "stream",
          "name": "stderr",
          "text": [
            "<ipython-input-6-7346c83153f2>:20: RuntimeWarning: overflow encountered in scalar divide\n",
            "  a_newmark[i] = (f_eff - k * u_newmark[i]) / m\n",
            "<ipython-input-6-7346c83153f2>:20: RuntimeWarning: invalid value encountered in scalar subtract\n",
            "  a_newmark[i] = (f_eff - k * u_newmark[i]) / m\n"
          ]
        }
      ]
    },
    {
      "cell_type": "markdown",
      "source": [
        "Step 7: Plot the Results"
      ],
      "metadata": {
        "id": "mtIWG59V6y8Y"
      }
    },
    {
      "cell_type": "code",
      "source": [
        "time = np.arange(0, t_end, dt)\n",
        "\n",
        "plt.figure(figsize=(12, 6))\n",
        "plt.plot(time, u, label='Central Difference Method', color='blue')\n",
        "plt.plot(time, u_newmark, label='Newmark Method', color='orange')\n",
        "plt.title('Response of SDOF System to Half-Cycle Sine Pulse Force')\n",
        "plt.xlabel('Time (sec)')\n",
        "plt.ylabel('Displacement (in)')\n",
        "plt.grid()\n",
        "plt.legend()\n",
        "plt.show()"
      ],
      "metadata": {
        "colab": {
          "base_uri": "https://localhost:8080/",
          "height": 564
        },
        "id": "tA0P5v0S60wT",
        "outputId": "6a3758be-541d-4fab-9067-f6e86cfb6dd3"
      },
      "execution_count": 7,
      "outputs": [
        {
          "output_type": "display_data",
          "data": {
            "text/plain": [
              "<Figure size 1200x600 with 1 Axes>"
            ],
            "image/png": "[encoded data removed]"
          },
          "metadata": {}
        }
      ]
    }
  ]
}